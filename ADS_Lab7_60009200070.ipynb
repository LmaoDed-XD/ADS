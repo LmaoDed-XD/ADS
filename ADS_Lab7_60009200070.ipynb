{
  "nbformat": 4,
  "nbformat_minor": 0,
  "metadata": {
    "colab": {
      "provenance": []
    },
    "kernelspec": {
      "name": "python3",
      "display_name": "Python 3"
    },
    "language_info": {
      "name": "python"
    }
  },
  "cells": [
    {
      "cell_type": "code",
      "execution_count": 1,
      "metadata": {
        "id": "n6HNaRJOzZZI"
      },
      "outputs": [],
      "source": [
        "import numpy as np\n",
        "import matplotlib.pyplot as plt\n",
        "import pandas as pd"
      ]
    },
    {
      "cell_type": "code",
      "source": [
        "dataset=pd.read_csv('Mall_Customers.csv')\n",
        "dataset.head()"
      ],
      "metadata": {
        "colab": {
          "base_uri": "https://localhost:8080/",
          "height": 206
        },
        "id": "oZ5Z5CFK0sPO",
        "outputId": "e2dfd59f-d598-4235-83cc-dbd9477bc482"
      },
      "execution_count": 2,
      "outputs": [
        {
          "output_type": "execute_result",
          "data": {
            "text/plain": [
              "   CustomerID   Genre  Age  Annual Income (k$)  Spending Score (1-100)\n",
              "0           1    Male   19                  15                      39\n",
              "1           2    Male   21                  15                      81\n",
              "2           3  Female   20                  16                       6\n",
              "3           4  Female   23                  16                      77\n",
              "4           5  Female   31                  17                      40"
            ],
            "text/html": [
              "\n",
              "  <div id=\"df-79117272-c6db-4f6b-bd06-f17d31eda73d\" class=\"colab-df-container\">\n",
              "    <div>\n",
              "<style scoped>\n",
              "    .dataframe tbody tr th:only-of-type {\n",
              "        vertical-align: middle;\n",
              "    }\n",
              "\n",
              "    .dataframe tbody tr th {\n",
              "        vertical-align: top;\n",
              "    }\n",
              "\n",
              "    .dataframe thead th {\n",
              "        text-align: right;\n",
              "    }\n",
              "</style>\n",
              "<table border=\"1\" class=\"dataframe\">\n",
              "  <thead>\n",
              "    <tr style=\"text-align: right;\">\n",
              "      <th></th>\n",
              "      <th>CustomerID</th>\n",
              "      <th>Genre</th>\n",
              "      <th>Age</th>\n",
              "      <th>Annual Income (k$)</th>\n",
              "      <th>Spending Score (1-100)</th>\n",
              "    </tr>\n",
              "  </thead>\n",
              "  <tbody>\n",
              "    <tr>\n",
              "      <th>0</th>\n",
              "      <td>1</td>\n",
              "      <td>Male</td>\n",
              "      <td>19</td>\n",
              "      <td>15</td>\n",
              "      <td>39</td>\n",
              "    </tr>\n",
              "    <tr>\n",
              "      <th>1</th>\n",
              "      <td>2</td>\n",
              "      <td>Male</td>\n",
              "      <td>21</td>\n",
              "      <td>15</td>\n",
              "      <td>81</td>\n",
              "    </tr>\n",
              "    <tr>\n",
              "      <th>2</th>\n",
              "      <td>3</td>\n",
              "      <td>Female</td>\n",
              "      <td>20</td>\n",
              "      <td>16</td>\n",
              "      <td>6</td>\n",
              "    </tr>\n",
              "    <tr>\n",
              "      <th>3</th>\n",
              "      <td>4</td>\n",
              "      <td>Female</td>\n",
              "      <td>23</td>\n",
              "      <td>16</td>\n",
              "      <td>77</td>\n",
              "    </tr>\n",
              "    <tr>\n",
              "      <th>4</th>\n",
              "      <td>5</td>\n",
              "      <td>Female</td>\n",
              "      <td>31</td>\n",
              "      <td>17</td>\n",
              "      <td>40</td>\n",
              "    </tr>\n",
              "  </tbody>\n",
              "</table>\n",
              "</div>\n",
              "    <div class=\"colab-df-buttons\">\n",
              "\n",
              "  <div class=\"colab-df-container\">\n",
              "    <button class=\"colab-df-convert\" onclick=\"convertToInteractive('df-79117272-c6db-4f6b-bd06-f17d31eda73d')\"\n",
              "            title=\"Convert this dataframe to an interactive table.\"\n",
              "            style=\"display:none;\">\n",
              "\n",
              "  <svg xmlns=\"http://www.w3.org/2000/svg\" height=\"24px\" viewBox=\"0 -960 960 960\">\n",
              "    <path d=\"M120-120v-720h720v720H120Zm60-500h600v-160H180v160Zm220 220h160v-160H400v160Zm0 220h160v-160H400v160ZM180-400h160v-160H180v160Zm440 0h160v-160H620v160ZM180-180h160v-160H180v160Zm440 0h160v-160H620v160Z\"/>\n",
              "  </svg>\n",
              "    </button>\n",
              "\n",
              "  <style>\n",
              "    .colab-df-container {\n",
              "      display:flex;\n",
              "      gap: 12px;\n",
              "    }\n",
              "\n",
              "    .colab-df-convert {\n",
              "      background-color: #E8F0FE;\n",
              "      border: none;\n",
              "      border-radius: 50%;\n",
              "      cursor: pointer;\n",
              "      display: none;\n",
              "      fill: #1967D2;\n",
              "      height: 32px;\n",
              "      padding: 0 0 0 0;\n",
              "      width: 32px;\n",
              "    }\n",
              "\n",
              "    .colab-df-convert:hover {\n",
              "      background-color: #E2EBFA;\n",
              "      box-shadow: 0px 1px 2px rgba(60, 64, 67, 0.3), 0px 1px 3px 1px rgba(60, 64, 67, 0.15);\n",
              "      fill: #174EA6;\n",
              "    }\n",
              "\n",
              "    .colab-df-buttons div {\n",
              "      margin-bottom: 4px;\n",
              "    }\n",
              "\n",
              "    [theme=dark] .colab-df-convert {\n",
              "      background-color: #3B4455;\n",
              "      fill: #D2E3FC;\n",
              "    }\n",
              "\n",
              "    [theme=dark] .colab-df-convert:hover {\n",
              "      background-color: #434B5C;\n",
              "      box-shadow: 0px 1px 3px 1px rgba(0, 0, 0, 0.15);\n",
              "      filter: drop-shadow(0px 1px 2px rgba(0, 0, 0, 0.3));\n",
              "      fill: #FFFFFF;\n",
              "    }\n",
              "  </style>\n",
              "\n",
              "    <script>\n",
              "      const buttonEl =\n",
              "        document.querySelector('#df-79117272-c6db-4f6b-bd06-f17d31eda73d button.colab-df-convert');\n",
              "      buttonEl.style.display =\n",
              "        google.colab.kernel.accessAllowed ? 'block' : 'none';\n",
              "\n",
              "      async function convertToInteractive(key) {\n",
              "        const element = document.querySelector('#df-79117272-c6db-4f6b-bd06-f17d31eda73d');\n",
              "        const dataTable =\n",
              "          await google.colab.kernel.invokeFunction('convertToInteractive',\n",
              "                                                    [key], {});\n",
              "        if (!dataTable) return;\n",
              "\n",
              "        const docLinkHtml = 'Like what you see? Visit the ' +\n",
              "          '<a target=\"_blank\" href=https://colab.research.google.com/notebooks/data_table.ipynb>data table notebook</a>'\n",
              "          + ' to learn more about interactive tables.';\n",
              "        element.innerHTML = '';\n",
              "        dataTable['output_type'] = 'display_data';\n",
              "        await google.colab.output.renderOutput(dataTable, element);\n",
              "        const docLink = document.createElement('div');\n",
              "        docLink.innerHTML = docLinkHtml;\n",
              "        element.appendChild(docLink);\n",
              "      }\n",
              "    </script>\n",
              "  </div>\n",
              "\n",
              "\n",
              "<div id=\"df-301c3477-1d85-4c84-971f-9a8507106e4d\">\n",
              "  <button class=\"colab-df-quickchart\" onclick=\"quickchart('df-301c3477-1d85-4c84-971f-9a8507106e4d')\"\n",
              "            title=\"Suggest charts\"\n",
              "            style=\"display:none;\">\n",
              "\n",
              "<svg xmlns=\"http://www.w3.org/2000/svg\" height=\"24px\"viewBox=\"0 0 24 24\"\n",
              "     width=\"24px\">\n",
              "    <g>\n",
              "        <path d=\"M19 3H5c-1.1 0-2 .9-2 2v14c0 1.1.9 2 2 2h14c1.1 0 2-.9 2-2V5c0-1.1-.9-2-2-2zM9 17H7v-7h2v7zm4 0h-2V7h2v10zm4 0h-2v-4h2v4z\"/>\n",
              "    </g>\n",
              "</svg>\n",
              "  </button>\n",
              "\n",
              "<style>\n",
              "  .colab-df-quickchart {\n",
              "      --bg-color: #E8F0FE;\n",
              "      --fill-color: #1967D2;\n",
              "      --hover-bg-color: #E2EBFA;\n",
              "      --hover-fill-color: #174EA6;\n",
              "      --disabled-fill-color: #AAA;\n",
              "      --disabled-bg-color: #DDD;\n",
              "  }\n",
              "\n",
              "  [theme=dark] .colab-df-quickchart {\n",
              "      --bg-color: #3B4455;\n",
              "      --fill-color: #D2E3FC;\n",
              "      --hover-bg-color: #434B5C;\n",
              "      --hover-fill-color: #FFFFFF;\n",
              "      --disabled-bg-color: #3B4455;\n",
              "      --disabled-fill-color: #666;\n",
              "  }\n",
              "\n",
              "  .colab-df-quickchart {\n",
              "    background-color: var(--bg-color);\n",
              "    border: none;\n",
              "    border-radius: 50%;\n",
              "    cursor: pointer;\n",
              "    display: none;\n",
              "    fill: var(--fill-color);\n",
              "    height: 32px;\n",
              "    padding: 0;\n",
              "    width: 32px;\n",
              "  }\n",
              "\n",
              "  .colab-df-quickchart:hover {\n",
              "    background-color: var(--hover-bg-color);\n",
              "    box-shadow: 0 1px 2px rgba(60, 64, 67, 0.3), 0 1px 3px 1px rgba(60, 64, 67, 0.15);\n",
              "    fill: var(--button-hover-fill-color);\n",
              "  }\n",
              "\n",
              "  .colab-df-quickchart-complete:disabled,\n",
              "  .colab-df-quickchart-complete:disabled:hover {\n",
              "    background-color: var(--disabled-bg-color);\n",
              "    fill: var(--disabled-fill-color);\n",
              "    box-shadow: none;\n",
              "  }\n",
              "\n",
              "  .colab-df-spinner {\n",
              "    border: 2px solid var(--fill-color);\n",
              "    border-color: transparent;\n",
              "    border-bottom-color: var(--fill-color);\n",
              "    animation:\n",
              "      spin 1s steps(1) infinite;\n",
              "  }\n",
              "\n",
              "  @keyframes spin {\n",
              "    0% {\n",
              "      border-color: transparent;\n",
              "      border-bottom-color: var(--fill-color);\n",
              "      border-left-color: var(--fill-color);\n",
              "    }\n",
              "    20% {\n",
              "      border-color: transparent;\n",
              "      border-left-color: var(--fill-color);\n",
              "      border-top-color: var(--fill-color);\n",
              "    }\n",
              "    30% {\n",
              "      border-color: transparent;\n",
              "      border-left-color: var(--fill-color);\n",
              "      border-top-color: var(--fill-color);\n",
              "      border-right-color: var(--fill-color);\n",
              "    }\n",
              "    40% {\n",
              "      border-color: transparent;\n",
              "      border-right-color: var(--fill-color);\n",
              "      border-top-color: var(--fill-color);\n",
              "    }\n",
              "    60% {\n",
              "      border-color: transparent;\n",
              "      border-right-color: var(--fill-color);\n",
              "    }\n",
              "    80% {\n",
              "      border-color: transparent;\n",
              "      border-right-color: var(--fill-color);\n",
              "      border-bottom-color: var(--fill-color);\n",
              "    }\n",
              "    90% {\n",
              "      border-color: transparent;\n",
              "      border-bottom-color: var(--fill-color);\n",
              "    }\n",
              "  }\n",
              "</style>\n",
              "\n",
              "  <script>\n",
              "    async function quickchart(key) {\n",
              "      const quickchartButtonEl =\n",
              "        document.querySelector('#' + key + ' button');\n",
              "      quickchartButtonEl.disabled = true;  // To prevent multiple clicks.\n",
              "      quickchartButtonEl.classList.add('colab-df-spinner');\n",
              "      try {\n",
              "        const charts = await google.colab.kernel.invokeFunction(\n",
              "            'suggestCharts', [key], {});\n",
              "      } catch (error) {\n",
              "        console.error('Error during call to suggestCharts:', error);\n",
              "      }\n",
              "      quickchartButtonEl.classList.remove('colab-df-spinner');\n",
              "      quickchartButtonEl.classList.add('colab-df-quickchart-complete');\n",
              "    }\n",
              "    (() => {\n",
              "      let quickchartButtonEl =\n",
              "        document.querySelector('#df-301c3477-1d85-4c84-971f-9a8507106e4d button');\n",
              "      quickchartButtonEl.style.display =\n",
              "        google.colab.kernel.accessAllowed ? 'block' : 'none';\n",
              "    })();\n",
              "  </script>\n",
              "</div>\n",
              "    </div>\n",
              "  </div>\n"
            ]
          },
          "metadata": {},
          "execution_count": 2
        }
      ]
    },
    {
      "cell_type": "code",
      "source": [
        "X=dataset.iloc[:,[3,4]].values"
      ],
      "metadata": {
        "id": "m_I3OYi11ktF"
      },
      "execution_count": 5,
      "outputs": []
    },
    {
      "cell_type": "code",
      "source": [
        "from sklearn.cluster import KMeans\n",
        "wcss=[]\n",
        "for i in range(1,11):\n",
        "  kmeans=KMeans(n_clusters=i,init ='k-means++',random_state=42,n_init=10)\n",
        "  kmeans.fit(X)\n",
        "  wcss.append(kmeans.inertia_)"
      ],
      "metadata": {
        "id": "uIjawZ4J0wAa"
      },
      "execution_count": 6,
      "outputs": []
    },
    {
      "cell_type": "code",
      "source": [
        "plt.plot(range(1,11), wcss)\n",
        "plt.title('TheElbow Method')\n",
        "plt.xlabel('Numberof Clusters')\n",
        "plt.ylabel('WCSS')\n",
        "plt.show()"
      ],
      "metadata": {
        "colab": {
          "base_uri": "https://localhost:8080/",
          "height": 472
        },
        "id": "DeRsoqBo1naq",
        "outputId": "d0972e0e-d75d-48ca-cc57-8da589529a8c"
      },
      "execution_count": 7,
      "outputs": [
        {
          "output_type": "display_data",
          "data": {
            "text/plain": [
              "<Figure size 640x480 with 1 Axes>"
            ],
            "image/png": "[encoded data removed]"
          },
          "metadata": {}
        }
      ]
    },
    {
      "cell_type": "code",
      "source": [
        "kmeans=KMeans(n_clusters=5,init='k-means++')#random_state=42\n",
        "y_kmeans=kmeans.fit_predict(X)"
      ],
      "metadata": {
        "colab": {
          "base_uri": "https://localhost:8080/",
          "height": 0
        },
        "id": "fdnb-kWP1wpX",
        "outputId": "50de094d-d913-4ebd-ddc2-1868c4ac830f"
      },
      "execution_count": 8,
      "outputs": [
        {
          "output_type": "stream",
          "name": "stderr",
          "text": [
            "/usr/local/lib/python3.10/dist-packages/sklearn/cluster/_kmeans.py:870: FutureWarning: The default value of `n_init` will change from 10 to 'auto' in 1.4. Set the value of `n_init` explicitly to suppress the warning\n",
            "  warnings.warn(\n"
          ]
        }
      ]
    },
    {
      "cell_type": "code",
      "source": [
        "print(y_kmeans)"
      ],
      "metadata": {
        "colab": {
          "base_uri": "https://localhost:8080/",
          "height": 0
        },
        "id": "lWn4l0ud1-Oz",
        "outputId": "9044fc58-6b90-40a9-c9d2-4295581eb7d7"
      },
      "execution_count": 9,
      "outputs": [
        {
          "output_type": "stream",
          "name": "stdout",
          "text": [
            "[3 0 3 0 3 0 3 0 3 0 3 0 3 0 3 0 3 0 3 0 3 0 3 0 3 0 3 0 3 0 3 0 3 0 3 0 3\n",
            " 0 3 0 3 0 3 1 3 0 1 1 1 1 1 1 1 1 1 1 1 1 1 1 1 1 1 1 1 1 1 1 1 1 1 1 1 1\n",
            " 1 1 1 1 1 1 1 1 1 1 1 1 1 1 1 1 1 1 1 1 1 1 1 1 1 1 1 1 1 1 1 1 1 1 1 1 1\n",
            " 1 1 1 1 1 1 1 1 1 1 1 1 2 4 2 1 2 4 2 4 2 1 2 4 2 4 2 4 2 4 2 1 2 4 2 4 2\n",
            " 4 2 4 2 4 2 4 2 4 2 4 2 4 2 4 2 4 2 4 2 4 2 4 2 4 2 4 2 4 2 4 2 4 2 4 2 4\n",
            " 2 4 2 4 2 4 2 4 2 4 2 4 2 4 2]\n"
          ]
        }
      ]
    },
    {
      "cell_type": "code",
      "source": [
        "plt.scatter(X[y_kmeans==0,0],X[y_kmeans==0,1],s=100,c='red',label='Cluster1')\n",
        "plt.scatter(X[y_kmeans==1,0],X[y_kmeans==1,1],s=100,c='blue',label='Cluster2')\n",
        "plt.scatter(X[y_kmeans==2,0],X[y_kmeans==2,1],s=100,c='green',label='Cluster3')\n",
        "plt.scatter(X[y_kmeans==3,0],X[y_kmeans==3,1],s=100,c='cyan',label='Cluster4')\n",
        "plt.scatter(X[y_kmeans==4,0],X[y_kmeans==4,1],s=100,c='magenta',label='Cluster5')\n",
        "plt.scatter(kmeans.cluster_centers_[:,0],kmeans.cluster_centers_[:,1],s=300,c='yellow',label='Centroids')\n",
        "plt.title('Clustersof Customers')\n",
        "plt.xlabel('AnnualIncome (k$)')\n",
        "plt.ylabel('SpendingScore(0-100)')\n",
        "plt.legend()\n",
        "plt.show()"
      ],
      "metadata": {
        "colab": {
          "base_uri": "https://localhost:8080/",
          "height": 472
        },
        "id": "JFrjXFhT1_CB",
        "outputId": "d6aa67f9-f294-4513-f608-e76aebcc9efe"
      },
      "execution_count": 10,
      "outputs": [
        {
          "output_type": "display_data",
          "data": {
            "text/plain": [
              "<Figure size 640x480 with 1 Axes>"
            ],
            "image/png": "[encoded data removed]"
          },
          "metadata": {}
        }
      ]
    },
    {
      "cell_type": "code",
      "source": [
        "kmeans.cluster_centers_\n"
      ],
      "metadata": {
        "colab": {
          "base_uri": "https://localhost:8080/",
          "height": 0
        },
        "id": "0bjwqGXE2mqQ",
        "outputId": "ff0f2638-8e1e-42d9-d325-fa472ba05b12"
      },
      "execution_count": 11,
      "outputs": [
        {
          "output_type": "execute_result",
          "data": {
            "text/plain": [
              "array([[25.72727273, 79.36363636],\n",
              "       [55.2962963 , 49.51851852],\n",
              "       [86.53846154, 82.12820513],\n",
              "       [26.30434783, 20.91304348],\n",
              "       [88.2       , 17.11428571]])"
            ]
          },
          "metadata": {},
          "execution_count": 11
        }
      ]
    },
    {
      "cell_type": "code",
      "source": [
        "from sklearn.metrics.pairwise import euclidean_distances\n",
        "dists=euclidean_distances(kmeans.cluster_centers_)\n",
        "dists"
      ],
      "metadata": {
        "colab": {
          "base_uri": "https://localhost:8080/",
          "height": 0
        },
        "id": "XvhVqgQT2ndC",
        "outputId": "e924914b-c046-40cd-f1b9-00a5c1dedebe"
      },
      "execution_count": 12,
      "outputs": [
        {
          "output_type": "execute_result",
          "data": {
            "text/plain": [
              "array([[ 0.        , 42.0125959 , 60.87399712, 58.45344151, 88.19196851],\n",
              "       [42.0125959 ,  0.        , 45.16043124, 40.72844557, 46.1810353 ],\n",
              "       [60.87399712, 45.16043124,  0.        , 85.88040796, 65.03514763],\n",
              "       [58.45344151, 40.72844557, 85.88040796,  0.        , 62.01211429],\n",
              "       [88.19196851, 46.1810353 , 65.03514763, 62.01211429,  0.        ]])"
            ]
          },
          "metadata": {},
          "execution_count": 12
        }
      ]
    },
    {
      "cell_type": "code",
      "source": [
        "tri_dists=dists[np.triu_indices(5,1)]\n",
        "max_dist,avg_dist,min_dist=tri_dists.max(),tri_dists.mean(),tri_dists.min()\n",
        "avg_dist"
      ],
      "metadata": {
        "colab": {
          "base_uri": "https://localhost:8080/",
          "height": 0
        },
        "id": "3W3y32gi2yxG",
        "outputId": "3203c00a-1d4d-4c20-a81c-cf816bdb6cf4"
      },
      "execution_count": 14,
      "outputs": [
        {
          "output_type": "execute_result",
          "data": {
            "text/plain": [
              "59.45295850129899"
            ]
          },
          "metadata": {},
          "execution_count": 14
        }
      ]
    },
    {
      "cell_type": "code",
      "source": [
        "wcss = []\n",
        "for i in range(2,11):\n",
        "  print(f'--Cluster {i}--')\n",
        "  kmeans=KMeans(n_clusters=i,init='k-means++',random_state=42,n_init=10)\n",
        "  kmeans.fit(X)\n",
        "  wcss.append(kmeans.inertia_)\n",
        "  print('--Cluster Centers--')\n",
        "  print(kmeans.cluster_centers_)\n",
        "\n",
        "  print('--EuclideanDistance--')\n",
        "  dists=euclidean_distances(kmeans.cluster_centers_)\n",
        "  print(dists)\n",
        "\n",
        "  print('--AvgDist--')\n",
        "  tri_dists=dists\n",
        "  [np.triu_indices(i,1)]\n",
        "  max_dist,avg_dist,min_dist=tri_dists.max(),tri_dists.mean(),tri_dists.min()\n",
        "\n",
        "  print(avg_dist)\n",
        "  print('\\n\\n')"
      ],
      "metadata": {
        "colab": {
          "base_uri": "https://localhost:8080/",
          "height": 0
        },
        "id": "FAQ3Ig1j3DZ1",
        "outputId": "16cba8da-5b2d-4b9c-eb15-42fd8292c7d4"
      },
      "execution_count": 19,
      "outputs": [
        {
          "output_type": "stream",
          "name": "stdout",
          "text": [
            "--Cluster 2--\n",
            "--Cluster Centers--\n",
            "[[79.6        50.12727273]\n",
            " [37.28888889 50.28888889]]\n",
            "--EuclideanDistance--\n",
            "[[ 0.         42.31141977]\n",
            " [42.31141977  0.        ]]\n",
            "--AvgDist--\n",
            "21.15570988669775\n",
            "\n",
            "\n",
            "\n",
            "--Cluster 3--\n",
            "--Cluster Centers--\n",
            "[[44.15447154 49.82926829]\n",
            " [87.         18.63157895]\n",
            " [86.53846154 82.12820513]]\n",
            "--EuclideanDistance--\n",
            "[[ 0.         53.00033141 53.28812183]\n",
            " [53.00033141  0.         63.49830355]\n",
            " [53.28812183 63.49830355  0.        ]]\n",
            "--AvgDist--\n",
            "37.73039039812312\n",
            "\n",
            "\n",
            "\n",
            "--Cluster 4--\n",
            "--Cluster Centers--\n",
            "[[26.30434783 20.91304348]\n",
            " [86.53846154 82.12820513]\n",
            " [87.         18.63157895]\n",
            " [48.26       56.48      ]]\n",
            "--EuclideanDistance--\n",
            "[[ 0.         85.88040796 60.73851557 41.79783557]\n",
            " [85.88040796  0.         63.49830355 46.07679507]\n",
            " [60.73851557 63.49830355  0.         54.1598613 ]\n",
            " [41.79783557 46.07679507 54.1598613   0.        ]]\n",
            "--AvgDist--\n",
            "44.0189648775558\n",
            "\n",
            "\n",
            "\n",
            "--Cluster 5--\n",
            "--Cluster Centers--\n",
            "[[55.2962963  49.51851852]\n",
            " [88.2        17.11428571]\n",
            " [26.30434783 20.91304348]\n",
            " [25.72727273 79.36363636]\n",
            " [86.53846154 82.12820513]]\n",
            "--EuclideanDistance--\n",
            "[[ 0.         46.1810353  40.72844557 42.0125959  45.16043124]\n",
            " [46.1810353   0.         62.01211429 88.19196851 65.03514763]\n",
            " [40.72844557 62.01211429  0.         58.45344151 85.88040796]\n",
            " [42.0125959  88.19196851 58.45344151  0.         60.87399712]\n",
            " [45.16043124 65.03514763 85.88040796 60.87399712  0.        ]]\n",
            "--AvgDist--\n",
            "47.56236680103919\n",
            "\n",
            "\n",
            "\n",
            "--Cluster 6--\n",
            "--Cluster Centers--\n",
            "[[ 88.2         17.11428571]\n",
            " [ 55.2962963   49.51851852]\n",
            " [ 25.72727273  79.36363636]\n",
            " [109.7         82.        ]\n",
            " [ 26.30434783  20.91304348]\n",
            " [ 78.55172414  82.17241379]]\n",
            "--EuclideanDistance--\n",
            "[[  0.          46.1810353   88.19196851  68.35499922  62.01211429\n",
            "   65.76966821]\n",
            " [ 46.1810353    0.          42.0125959   63.36252533  40.72844557\n",
            "   40.0885495 ]\n",
            " [ 88.19196851  42.0125959    0.          84.01410202  58.45344151\n",
            "   52.89907275]\n",
            " [ 68.35499922  63.36252533  84.01410202   0.         103.3752923\n",
            "   31.14875304]\n",
            " [ 62.01211429  40.72844557  58.45344151 103.3752923    0.\n",
            "   80.51396638]\n",
            " [ 65.76966821  40.0885495   52.89907275  31.14875304  80.51396638\n",
            "    0.        ]]\n",
            "--AvgDist--\n",
            "51.50591832288994\n",
            "\n",
            "\n",
            "\n",
            "--Cluster 7--\n",
            "--Cluster Centers--\n",
            "[[ 26.30434783  20.91304348]\n",
            " [ 54.61538462  50.02564103]\n",
            " [ 78.03571429  81.89285714]\n",
            " [109.7         22.        ]\n",
            " [ 25.72727273  79.36363636]\n",
            " [ 78.89285714  17.42857143]\n",
            " [108.18181818  82.72727273]]\n",
            "--EuclideanDistance--\n",
            "[[  0.          40.60859687  79.96669276  83.40273542  58.45344151\n",
            "   52.70382204 102.59102831]\n",
            " [ 40.60859687   0.          39.54783565  61.80413746  41.1733042\n",
            "   40.64436761  62.75953729]\n",
            " [ 79.96669276  39.54783565   0.          67.74792489  52.36955238\n",
            "   64.46998392  30.1576496 ]\n",
            " [ 83.40273542  61.80413746  67.74792489   0.         101.69565233\n",
            "   31.14446998  60.74624704]\n",
            " [ 58.45344151  41.1733042   52.36955238 101.69565233   0.\n",
            "   81.62433237  82.52312473]\n",
            " [ 52.70382204  40.64436761  64.46998392  31.14446998  81.62433237\n",
            "    0.          71.56649796]\n",
            " [102.59102831  62.75953729  30.1576496   60.74624704  82.52312473\n",
            "   71.56649796   0.        ]]\n",
            "--AvgDist--\n",
            "53.37554833941228\n",
            "\n",
            "\n",
            "\n",
            "--Cluster 8--\n",
            "--Cluster Centers--\n",
            "[[ 80.18181818  12.68181818]\n",
            " [ 47.65909091  51.61363636]\n",
            " [ 78.55172414  82.17241379]\n",
            " [ 25.72727273  20.22727273]\n",
            " [ 25.0952381   80.04761905]\n",
            " [109.7         22.        ]\n",
            " [ 63.95238095  46.21428571]\n",
            " [109.7         82.        ]]\n",
            "--EuclideanDistance--\n",
            "[[  0.          50.72883062  69.50971216  54.97482519  87.02116083\n",
            "   30.95402349  37.25346979  75.34144536]\n",
            " [ 50.72883062   0.          43.45335046  38.28979591  36.29901962\n",
            "   68.74621342  17.16462315  69.08259908]\n",
            " [ 69.50971216  43.45335046   0.          81.41021538  53.49869767\n",
            "   67.7564349   38.80886234  31.14875304]\n",
            " [ 54.97482519  38.28979591  81.41021538   0.          59.82368512\n",
            "   83.99143699  46.22211314 104.24628895]\n",
            " [ 87.02116083  36.29901962  53.49869767  59.82368512   0.\n",
            "  102.60356628  51.52253871  84.62728596]\n",
            " [ 30.95402349  68.74621342  67.7564349   83.99143699 102.60356628\n",
            "    0.          51.76076005  60.        ]\n",
            " [ 37.25346979  17.16462315  38.80886234  46.22211314  51.52253871\n",
            "   51.76076005   0.          58.08151165]\n",
            " [ 75.34144536  69.08259908  31.14875304 104.24628895  84.62728596\n",
            "   60.          58.08151165   0.        ]]\n",
            "--AvgDist--\n",
            "51.6975381023241\n",
            "\n",
            "\n",
            "\n",
            "--Cluster 9--\n",
            "--Cluster Centers--\n",
            "[[ 48.1         52.675     ]\n",
            " [ 79.73913043  13.39130435]\n",
            " [ 24.58333333   9.58333333]\n",
            " [108.18181818  82.72727273]\n",
            " [ 30.          34.61538462]\n",
            " [ 25.0952381   80.04761905]\n",
            " [ 63.57142857  46.57142857]\n",
            " [ 78.03571429  81.89285714]\n",
            " [109.7         22.        ]]\n",
            "--EuclideanDistance--\n",
            "[[  0.          50.44049285  49.09099049  67.17859757  25.56872519\n",
            "   35.75582951  16.63185757  41.83097137  68.81508283]\n",
            " [ 50.44049285   0.          55.2870925   74.94306504  54.07811646\n",
            "   86.19175865  36.90955468  68.5227288   31.17311896]\n",
            " [ 49.09099049  55.2870925    0.         111.0798926   25.61140116\n",
            "   70.46614512  53.74189018  89.92121142  86.01755958]\n",
            " [ 67.17859757  74.94306504 111.0798926    0.          91.79951237\n",
            "   83.12978007  57.42239918  30.1576496   60.74624704]\n",
            " [ 25.56872519  54.07811646  25.61140116  91.79951237   0.\n",
            "   45.69622101  35.63688824  67.39873334  80.69224206]\n",
            " [ 35.75582951  86.19175865  70.46614512  83.12978007  45.69622101\n",
            "    0.          51.00071139  52.97262428 102.60356628]\n",
            " [ 16.63185757  36.90955468  53.74189018  57.42239918  35.63688824\n",
            "   51.00071139   0.          38.16829676  52.2647128 ]\n",
            " [ 41.83097137  68.5227288   89.92121142  30.1576496   67.39873334\n",
            "   52.97262428  38.16829676   0.          67.74792489]\n",
            " [ 68.81508283  31.17311896  86.01755958  60.74624704  80.69224206\n",
            "  102.60356628  52.2647128   67.74792489   0.        ]]\n",
            "--AvgDist--\n",
            "52.26403930441239\n",
            "\n",
            "\n",
            "\n",
            "--Cluster 10--\n",
            "--Cluster Centers--\n",
            "[[ 44.32258065  52.12903226]\n",
            " [ 81.          32.27272727]\n",
            " [109.7         82.        ]\n",
            " [ 24.58333333   9.58333333]\n",
            " [ 78.55172414  82.17241379]\n",
            " [ 60.26530612  49.2244898 ]\n",
            " [112.625       18.625     ]\n",
            " [ 24.95        81.        ]\n",
            " [ 28.18181818  33.27272727]\n",
            " [ 79.68421053  10.73684211]]\n",
            "--EuclideanDistance--\n",
            "[[  0.          41.7073847   71.87824202  46.90175243  45.54381449\n",
            "   16.20514926  76.07720202  34.76822773  24.82104854  54.4404103 ]\n",
            " [ 41.7073847    0.          57.4150821   60.8082961   49.95971146\n",
            "   26.7822662   34.44417345  74.26943926  52.82764741  21.57604347]\n",
            " [ 71.87824202  57.4150821    0.         111.75428652  31.14875304\n",
            "   59.31292463  63.44246409  84.7558995   94.97136976  77.32648505]\n",
            " [ 46.90175243  60.8082961  111.75428652   0.          90.45309175\n",
            "   53.33502103  88.50472759  71.41760793  23.96114518  55.11294993]\n",
            " [ 45.54381449  49.95971146  31.14875304  90.45309175   0.\n",
            "   37.68234042  72.10590772  53.61454453  70.20190003  71.44454792]\n",
            " [ 16.20514926  26.7822662   59.31292463  53.33502103  37.68234042\n",
            "    0.          60.64541466  47.50635637  35.83027946  43.1090811 ]\n",
            " [ 76.07720202  34.44417345  63.44246409  88.50472759  72.10590772\n",
            "   60.64541466   0.         107.59900673  85.70418234  33.87209244]\n",
            " [ 34.76822773  74.26943926  84.7558995   71.41760793  53.61454453\n",
            "   47.50635637 107.59900673   0.          47.83656771  89.0659596 ]\n",
            " [ 24.82104854  52.82764741  94.97136976  23.96114518  70.20190003\n",
            "   35.83027946  85.70418234  47.83656771   0.          56.21710182]\n",
            " [ 54.4404103   21.57604347  77.32648505  55.11294993  71.44454792\n",
            "   43.1090811   33.87209244  89.0659596   56.21710182   0.        ]]\n",
            "--AvgDist--\n",
            "52.16715799552996\n",
            "\n",
            "\n",
            "\n"
          ]
        }
      ]
    },
    {
      "cell_type": "code",
      "source": [],
      "metadata": {
        "id": "73lLQr4F4M-Y"
      },
      "execution_count": null,
      "outputs": []
    }
  ]
}